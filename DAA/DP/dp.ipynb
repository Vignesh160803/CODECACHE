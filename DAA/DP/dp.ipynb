{
 "cells": [
  {
   "cell_type": "markdown",
   "metadata": {},
   "source": [
    "# Coin change problem"
   ]
  },
  {
   "cell_type": "code",
   "execution_count": 8,
   "metadata": {},
   "outputs": [
    {
     "name": "stdout",
     "output_type": "stream",
     "text": [
      "Minimum number of coins is : 2\n"
     ]
    }
   ],
   "source": [
    "def min_coins(denomination,value):\n",
    "\n",
    "    table = [0 for i in range(value+1)]\n",
    "    table[0] = 0\n",
    "    max_val = float('inf')\n",
    "\n",
    "    for i in range(1,len(table)):\n",
    "        table[i] = max_val\n",
    "    \n",
    "    for i in range(1,value+1):\n",
    "\n",
    "        for j in range(len(denomination)):\n",
    "            if denomination[j]<=i:\n",
    "                res = table[i-denomination[j]]\n",
    "                if res!=max_val and res+1 < table[i]:\n",
    "                    table[i]=res+1\n",
    "    \n",
    "    print(f\"Minimum number of coins is : {table[-1]}\")\n",
    "\n",
    "coins = [25,10,5]\n",
    "value = 30\n",
    "min_coins(coins,value)"
   ]
  },
  {
   "cell_type": "markdown",
   "metadata": {},
   "source": [
    "# Nth Catalan Number"
   ]
  },
  {
   "cell_type": "code",
   "execution_count": 13,
   "metadata": {},
   "outputs": [
    {
     "name": "stdout",
     "output_type": "stream",
     "text": [
      "[1, 1, 2, 5, 14]\n",
      "14\n"
     ]
    }
   ],
   "source": [
    "def catalan(n):\n",
    "    catalans = [0 for i in range(n+1)]\n",
    "    catalans[0] = 1\n",
    "    catalans[1] = 1\n",
    "\n",
    "    for i in range(2,n+1):\n",
    "        for j in range(i):\n",
    "            catalans[i] += catalans[j]*catalans[i-j-1]\n",
    "    print(catalans)\n",
    "    print(catalans[n])\n",
    "\n",
    "catalan(4)"
   ]
  },
  {
   "cell_type": "markdown",
   "metadata": {},
   "source": [
    "# Min operations"
   ]
  },
  {
   "cell_type": "code",
   "execution_count": 14,
   "metadata": {},
   "outputs": [
    {
     "name": "stdout",
     "output_type": "stream",
     "text": [
      "5\n"
     ]
    }
   ],
   "source": [
    "def minOp(n):\n",
    "    dp = [0 for i in range(n+1)]\n",
    "\n",
    "    for i in range(1,n+1):\n",
    "        dp[i] = dp[i-1]+1\n",
    "\n",
    "        if i%2==0:\n",
    "            dp[i] = min(dp[i],dp[i//2]+1)\n",
    "    \n",
    "    print(dp[n])\n",
    "\n",
    "minOp(12)"
   ]
  },
  {
   "cell_type": "code",
   "execution_count": 15,
   "metadata": {},
   "outputs": [
    {
     "name": "stdout",
     "output_type": "stream",
     "text": [
      "Minimum number of multiplications is 18\n"
     ]
    }
   ],
   "source": [
    "# Matrix Chain Multiplication using Dynamic Programming\n",
    "\n",
    "# Dynamic Programming Python implementation of Matrix\n",
    "# Chain Multiplication. See the Cormen book for details\n",
    "# of the following algorithm\n",
    "import sys\n",
    "maxint=int(1e9+7)\n",
    "# Matrix Ai has dimension p[i-1] x p[i] for i = 1..n\n",
    "\n",
    "\n",
    "def MatrixChainOrder(p, n):\n",
    "\t# For simplicity of the program, \n",
    "\t# one extra row and one\n",
    "\t# extra column are allocated in m[][]. \n",
    "\t# 0th row and 0th\n",
    "\t# column of m[][] are not used\n",
    "\tm = [[0 for x in range(n)] for x in range(n)]\n",
    "\n",
    "\t# m[i, j] = Minimum number of scalar \n",
    "\t# multiplications needed\n",
    "\t# to compute the matrix A[i]A[i + 1]...A[j] = \n",
    "\t# A[i..j] where\n",
    "\t# dimension of A[i] is p[i-1] x p[i]\n",
    "\n",
    "\t# cost is zero when multiplying one matrix.\n",
    "\tfor i in range(1, n):\n",
    "\t\tm[i][i] = 0\n",
    "\n",
    "\t# L is chain length.\n",
    "\tfor L in range(2, n):\n",
    "\t\tfor i in range(1, n-L + 1):\n",
    "\t\t\tj = i + L-1\n",
    "\t\t\tm[i][j] = maxint\n",
    "\t\t\tfor k in range(i, j):\n",
    "\n",
    "\t\t\t\t# q = cost / scalar multiplications\n",
    "\t\t\t\tq = m[i][k] + m[k + 1][j] + p[i-1]*p[k]*p[j]\n",
    "\t\t\t\tif q < m[i][j]:\n",
    "\t\t\t\t\tm[i][j] = q\n",
    "\n",
    "\treturn m[1][n-1]\n",
    "\n",
    "\n",
    "# Driver code\n",
    "arr = [1, 2, 3, 4]\n",
    "size = len(arr)\n",
    "\n",
    "print(\"Minimum number of multiplications is \" +\n",
    "\tstr(MatrixChainOrder(arr, size)))\n",
    "# This Code is contributed by Bhavya Jain\n"
   ]
  },
  {
   "cell_type": "markdown",
   "metadata": {},
   "source": [
    "# Converting String to Corrected Time"
   ]
  },
  {
   "cell_type": "code",
   "execution_count": null,
   "metadata": {},
   "outputs": [],
   "source": [
    "class Solution:\n",
    "    def convertStringTimeToInt(self, timeString):\n",
    "        pos = timeString.find(\":\")\n",
    "        hours = int(timeString[:pos])\n",
    "        mins = int(timeString[pos + 1:])\n",
    "        \n",
    "        mins = hours * 60 + mins\n",
    "        \n",
    "        return mins\n",
    "    def convertTime(self, current: str, correct: str) -> int:\n",
    "        operations = [1, 5, 15, 60]\n",
    "        \n",
    "        currentTime = self.convertStringTimeToInt(current)\n",
    "        correctTime = self.convertStringTimeToInt(correct)\n",
    "        \n",
    "        targetSum = correctTime - currentTime\n",
    "        \n",
    "        if targetSum == 0:\n",
    "            return 0\n",
    "\n",
    "        dp = [[0] * (targetSum + 1) for _ in range(5)]\n",
    "        \n",
    "        for col in range(targetSum + 1):\n",
    "            dp[0][col] = float('inf') - 1\n",
    "        for row in range(5):\n",
    "            dp[row][0] = 0\n",
    "        \n",
    "        for row in range(1, 5):\n",
    "            for col in range(1, targetSum + 1):\n",
    "                if operations[row - 1] <= col:\n",
    "                    dp[row][col] = min(1 + dp[row][col - operations[row - 1]], dp[row - 1][col])\n",
    "                else:\n",
    "                    dp[row][col] = dp[row - 1][col]\n",
    "        \n",
    "        return dp[4][targetSum]"
   ]
  }
 ],
 "metadata": {
  "kernelspec": {
   "display_name": "Python 3",
   "language": "python",
   "name": "python3"
  },
  "language_info": {
   "codemirror_mode": {
    "name": "ipython",
    "version": 3
   },
   "file_extension": ".py",
   "mimetype": "text/x-python",
   "name": "python",
   "nbconvert_exporter": "python",
   "pygments_lexer": "ipython3",
   "version": "3.11.2"
  }
 },
 "nbformat": 4,
 "nbformat_minor": 2
}
