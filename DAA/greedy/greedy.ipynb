{
 "cells": [
  {
   "cell_type": "markdown",
   "metadata": {},
   "source": [
    "# Job Scheduling"
   ]
  },
  {
   "cell_type": "code",
   "execution_count": 1,
   "metadata": {},
   "outputs": [
    {
     "name": "stdout",
     "output_type": "stream",
     "text": [
      "[['a', 2, 100], ['b', 1, 19], ['c', 2, 27], ['d', 1, 15], ['e', 3, 15]]\n",
      "['b', 'c', 'a']\n"
     ]
    }
   ],
   "source": [
    "def jobScheduling(jobs,total_time):\n",
    "\n",
    "    jobs.sort(key=lambda x:x[2],reverse=True)\n",
    "    result = [False]*total_time\n",
    "\n",
    "    accepted = [-1]*total_time\n",
    "\n",
    "    for i in range(len(jobs)):\n",
    "        for j in range(min(total_time-1,jobs[i][1]),-1,-1):\n",
    "            if result[j]==False:\n",
    "                result[j]=True\n",
    "                accepted[j] = jobs[i][0]\n",
    "                break\n",
    "    \n",
    "    print(accepted)\n",
    "\n",
    "\n",
    "jobs = []\n",
    "n = int(input(\"Enter the number of jobs: \"))\n",
    "\n",
    "for i in range(n):\n",
    "    job_id = input(\"Enter job id: \")\n",
    "    job_time = int(input(\"Enter the job burst time: \"))\n",
    "    job_priority = int(input(\"Enter the job priority: \"))\n",
    "    job = [job_id,job_time,job_priority]\n",
    "    jobs.append(job)\n",
    "print(jobs)\n",
    "\n",
    "jobScheduling(jobs,3)"
   ]
  },
  {
   "cell_type": "markdown",
   "metadata": {},
   "source": [
    "# Activity Selection"
   ]
  },
  {
   "cell_type": "code",
   "execution_count": 3,
   "metadata": {},
   "outputs": [
    {
     "name": "stdout",
     "output_type": "stream",
     "text": [
      "[[1, 2], [3, 4], [5, 7], [8, 9]]\n"
     ]
    }
   ],
   "source": [
    "def activitySelection(activities):\n",
    "    res = []\n",
    "    n = len(activities)\n",
    "    activities.sort(key=lambda x:x[1])\n",
    "    i=0\n",
    "    res.append(activities[i])\n",
    "\n",
    "\n",
    "    for j in range(1,n):\n",
    "        if activities[j][0]>activities[i][0]:\n",
    "            i=j\n",
    "            res.append(activities[j])\n",
    "    \n",
    "    print(res)\n",
    "\n",
    "times = []\n",
    "\n",
    "n = int(input(\"Enter the numebr of activities: \"))\n",
    "\n",
    "for i in range(n):\n",
    "    start = int(input(\"Enter the start time of activity: \"))\n",
    "    end = int(input(\"Enter the end time of activity: \"))\n",
    "    times.append([start,end])\n",
    "\n",
    "activitySelection(times)"
   ]
  },
  {
   "cell_type": "markdown",
   "metadata": {},
   "source": [
    "# coin change"
   ]
  },
  {
   "cell_type": "code",
   "execution_count": 4,
   "metadata": {},
   "outputs": [
    {
     "name": "stdout",
     "output_type": "stream",
     "text": [
      "8\n"
     ]
    }
   ],
   "source": [
    "def findMinCoins(amount,denominations):\n",
    "\n",
    "    coins = 0\n",
    "\n",
    "    while amount>0:\n",
    "        for i in range(len(denominations)-1,-1,-1):\n",
    "            if denominations[i]<=amount:\n",
    "                coins+=1\n",
    "                amount-=denominations[i]\n",
    "    return coins\n",
    "\n",
    "amount = 93\n",
    "denominations = (1,5,10,20,50,100,500,1000)\n",
    "print(findMinCoins(amount,denominations))"
   ]
  },
  {
   "cell_type": "markdown",
   "metadata": {},
   "source": [
    "# Prim's MST"
   ]
  },
  {
   "cell_type": "code",
   "execution_count": 5,
   "metadata": {},
   "outputs": [
    {
     "name": "stdout",
     "output_type": "stream",
     "text": [
      "Edge \tWeight\n",
      "0 - 1 \t 2\n",
      "1 - 2 \t 3\n",
      "0 - 3 \t 6\n",
      "1 - 4 \t 5\n"
     ]
    }
   ],
   "source": [
    "class Graph:\n",
    "\n",
    "    def __init__(self,V):\n",
    "        self.V = V\n",
    "        self.graph = [[0 for i in range(self.V)] for j in range(self.V)]\n",
    "    \n",
    "\n",
    "    def minIdx(self,key,mstSet):\n",
    "        min = float('inf')\n",
    "        for v in range(self.V):\n",
    "            if key[v]<min and v not in mstSet:\n",
    "                min = key[v]\n",
    "                idx=v\n",
    "        return idx\n",
    "    \n",
    "    def printMST(self,parent):\n",
    "        print(\"Edge \\tWeight\")\n",
    "        for i in range(1, self.V):\n",
    "            print(parent[i], \"-\", i, \"\\t\", self.graph[i][parent[i]])\n",
    "    \n",
    "    def MST(self):\n",
    "        maxval = float('inf')\n",
    "        mstSet = set()\n",
    "        parent = [None]*self.V\n",
    "        keys = [maxval]*self.V\n",
    "        keys[0] = 0\n",
    "        for v in range(self.V):\n",
    "\n",
    "            u = self.minIdx(keys,mstSet)\n",
    "            mstSet.add(u)\n",
    "\n",
    "            for neighbor in range(self.V):\n",
    "\n",
    "                if self.graph[u][neighbor]>0 and neighbor not in mstSet and keys[neighbor]>self.graph[u][neighbor]:\n",
    "                    keys[neighbor] = self.graph[u][neighbor]\n",
    "                    parent[neighbor] = u\n",
    "        self.printMST(parent)\n",
    "g = Graph(5)\n",
    "g.graph = [[0, 2, 0, 6, 0],\n",
    "            [2, 0, 3, 8, 5],\n",
    "            [0, 3, 0, 0, 7],\n",
    "            [6, 8, 0, 0, 9],\n",
    "            [0, 5, 7, 9, 0]]\n",
    "\n",
    "g.MST()"
   ]
  },
  {
   "cell_type": "code",
   "execution_count": null,
   "metadata": {},
   "outputs": [],
   "source": []
  }
 ],
 "metadata": {
  "kernelspec": {
   "display_name": "Python 3",
   "language": "python",
   "name": "python3"
  },
  "language_info": {
   "codemirror_mode": {
    "name": "ipython",
    "version": 3
   },
   "file_extension": ".py",
   "mimetype": "text/x-python",
   "name": "python",
   "nbconvert_exporter": "python",
   "pygments_lexer": "ipython3",
   "version": "3.11.2"
  }
 },
 "nbformat": 4,
 "nbformat_minor": 2
}
