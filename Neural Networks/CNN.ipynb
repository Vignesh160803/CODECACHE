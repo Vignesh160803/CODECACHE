{
 "cells": [
  {
   "cell_type": "code",
   "execution_count": 1,
   "metadata": {},
   "outputs": [],
   "source": [
    "import numpy as np\n",
    "import matplotlib.pyplot as plt\n",
    "from sklearn.datasets import load_digits\n",
    "from sklearn.model_selection import train_test_split\n",
    "from sklearn.metrics import accuracy_score\n",
    "from tensorflow.keras.models import Sequential\n",
    "from tensorflow.keras.layers import Conv2D, MaxPooling2D, Flatten, Dense\n"
   ]
  },
  {
   "cell_type": "code",
   "execution_count": 2,
   "metadata": {},
   "outputs": [],
   "source": [
    "# Load the MNIST dataset\n",
    "digits = load_digits()\n",
    "X = digits.images\n",
    "y = digits.target\n",
    "\n",
    "# Split the dataset into training and testing sets\n",
    "X_train, X_test, y_train, y_test = train_test_split(X, y, test_size=0.2, random_state=42)\n",
    "\n",
    "# Reshape the input data\n",
    "X_train = X_train.reshape(-1, 8, 8, 1)\n",
    "X_test = X_test.reshape(-1, 8, 8, 1)\n",
    "\n",
    "# Normalize the input data\n",
    "X_train = X_train / 16.0\n",
    "X_test = X_test / 16.0\n",
    "\n",
    "# Define the CNN architecture\n",
    "model = Sequential()\n",
    "model.add(Conv2D(32, kernel_size=(3, 3), activation='relu', input_shape=(8, 8, 1)))\n",
    "model.add(MaxPooling2D(pool_size=(2, 2)))\n",
    "model.add(Flatten())\n",
    "model.add(Dense(10, activation='softmax'))\n",
    "\n"
   ]
  },
  {
   "cell_type": "code",
   "execution_count": 3,
   "metadata": {},
   "outputs": [
    {
     "name": "stdout",
     "output_type": "stream",
     "text": [
      "Epoch 1/10\n",
      "45/45 [==============================] - 1s 10ms/step - loss: 2.2353 - accuracy: 0.3152 - val_loss: 2.0962 - val_accuracy: 0.5306\n",
      "Epoch 2/10\n",
      "45/45 [==============================] - 0s 4ms/step - loss: 1.9133 - accuracy: 0.6903 - val_loss: 1.6882 - val_accuracy: 0.7750\n",
      "Epoch 3/10\n",
      "45/45 [==============================] - 0s 4ms/step - loss: 1.4370 - accuracy: 0.8205 - val_loss: 1.1523 - val_accuracy: 0.8528\n",
      "Epoch 4/10\n",
      "45/45 [==============================] - 0s 4ms/step - loss: 0.9614 - accuracy: 0.8803 - val_loss: 0.7784 - val_accuracy: 0.8806\n",
      "Epoch 5/10\n",
      "45/45 [==============================] - 0s 4ms/step - loss: 0.6618 - accuracy: 0.9012 - val_loss: 0.5521 - val_accuracy: 0.8917\n",
      "Epoch 6/10\n",
      "45/45 [==============================] - 0s 3ms/step - loss: 0.4989 - accuracy: 0.9186 - val_loss: 0.4482 - val_accuracy: 0.9111\n",
      "Epoch 7/10\n",
      "45/45 [==============================] - 0s 4ms/step - loss: 0.4054 - accuracy: 0.9235 - val_loss: 0.3645 - val_accuracy: 0.9083\n",
      "Epoch 8/10\n",
      "45/45 [==============================] - 0s 3ms/step - loss: 0.3411 - accuracy: 0.9381 - val_loss: 0.3145 - val_accuracy: 0.9250\n",
      "Epoch 9/10\n",
      "45/45 [==============================] - 0s 4ms/step - loss: 0.2937 - accuracy: 0.9464 - val_loss: 0.2779 - val_accuracy: 0.9361\n",
      "Epoch 10/10\n",
      "45/45 [==============================] - 0s 4ms/step - loss: 0.2588 - accuracy: 0.9499 - val_loss: 0.2523 - val_accuracy: 0.9361\n"
     ]
    },
    {
     "data": {
      "text/plain": [
       "<keras.src.callbacks.History at 0x2100669d8d0>"
      ]
     },
     "execution_count": 3,
     "metadata": {},
     "output_type": "execute_result"
    }
   ],
   "source": [
    "# Compile the model\n",
    "model.compile(optimizer='adam', loss='sparse_categorical_crossentropy', metrics=['accuracy'])\n",
    "\n",
    "# Train the model\n",
    "model.fit(X_train, y_train, epochs=10, batch_size=32, validation_data=(X_test, y_test))\n"
   ]
  },
  {
   "cell_type": "code",
   "execution_count": 4,
   "metadata": {},
   "outputs": [
    {
     "name": "stdout",
     "output_type": "stream",
     "text": [
      "12/12 [==============================] - 0s 2ms/step - loss: 0.2523 - accuracy: 0.9361\n",
      "Accuracy: 0.9361110925674438\n"
     ]
    }
   ],
   "source": [
    "# Evaluate the model\n",
    "accuracy = model.evaluate(X_test, y_test)[1]\n",
    "print(\"Accuracy:\", accuracy)"
   ]
  },
  {
   "cell_type": "code",
   "execution_count": null,
   "metadata": {},
   "outputs": [],
   "source": []
  }
 ],
 "metadata": {
  "kernelspec": {
   "display_name": "Python 3",
   "language": "python",
   "name": "python3"
  },
  "language_info": {
   "codemirror_mode": {
    "name": "ipython",
    "version": 3
   },
   "file_extension": ".py",
   "mimetype": "text/x-python",
   "name": "python",
   "nbconvert_exporter": "python",
   "pygments_lexer": "ipython3",
   "version": "3.11.2"
  }
 },
 "nbformat": 4,
 "nbformat_minor": 2
}
