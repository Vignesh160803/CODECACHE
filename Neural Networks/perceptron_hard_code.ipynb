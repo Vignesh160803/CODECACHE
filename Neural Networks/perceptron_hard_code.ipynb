{
 "cells": [
  {
   "cell_type": "code",
   "execution_count": 1,
   "metadata": {},
   "outputs": [],
   "source": [
    "import numpy as np\n",
    "\n",
    "def perceptron_learning_algorithm(X, y, alpha=0.2, max_iterations=100):\n",
    "    # Initialize weights and bias\n",
    "    num_features = X.shape[1]\n",
    "    weights = np.zeros(num_features)\n",
    "    bias = 0\n",
    "    \n",
    "    # Iterate until convergence or maximum iterations reached\n",
    "    for _ in range(max_iterations):\n",
    "        converged = True\n",
    "        \n",
    "        # Iterate over each training example\n",
    "        for i in range(X.shape[0]):\n",
    "            # Compute the predicted output\n",
    "            predicted = np.dot(X[i], weights) + bias\n",
    "            \n",
    "            # Update weights and bias if prediction is incorrect\n",
    "            if predicted * y[i] <= 0:\n",
    "                weights += alpha * y[i] * X[i]\n",
    "                bias += alpha * y[i]\n",
    "                converged = False\n",
    "        \n",
    "        # Check for convergence\n",
    "        if converged:\n",
    "            break\n",
    "    \n",
    "    return weights, bias\n"
   ]
  },
  {
   "cell_type": "code",
   "execution_count": 2,
   "metadata": {},
   "outputs": [
    {
     "name": "stdout",
     "output_type": "stream",
     "text": [
      "Weights: [-1.4  1. ]\n",
      "Bias: 1.5999999999999999\n"
     ]
    }
   ],
   "source": [
    "X = np.array([[2, 3], [4, 1], [5, 6], [7, 8]])\n",
    "y = np.array([1, -1, 1, -1])\n",
    "weights, bias = perceptron_learning_algorithm(X, y)\n",
    "print(\"Weights:\", weights)\n",
    "print(\"Bias:\", bias)\n"
   ]
  }
 ],
 "metadata": {
  "kernelspec": {
   "display_name": "Python 3",
   "language": "python",
   "name": "python3"
  },
  "language_info": {
   "codemirror_mode": {
    "name": "ipython",
    "version": 3
   },
   "file_extension": ".py",
   "mimetype": "text/x-python",
   "name": "python",
   "nbconvert_exporter": "python",
   "pygments_lexer": "ipython3",
   "version": "3.11.2"
  }
 },
 "nbformat": 4,
 "nbformat_minor": 2
}
